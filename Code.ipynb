{
  "cells": [
    {
      "cell_type": "code",
      "execution_count": null,
      "metadata": {
        "id": "Om443Ogzbx7c"
      },
      "outputs": [],
      "source": [
        "# START ---------"
      ]
    },
    {
      "cell_type": "code",
      "execution_count": null,
      "metadata": {
        "id": "aM8o_2qeSxWf"
      },
      "outputs": [],
      "source": [
        "\n",
        "!pip install diffusers==0.12.1\n",
        "\n",
        "!pip install transformers scipy ftfy\n",
        "!pip install \"ipywidgets>=7,<8\"\n"
      ]
    },
    {
      "cell_type": "code",
      "execution_count": 2,
      "metadata": {
        "colab": {
          "base_uri": "https://localhost:8080/"
        },
        "id": "cc0QJunPUy7y",
        "outputId": "d7cbfb40-1b22-4f7b-e9e3-0757d4454bfd"
      },
      "outputs": [
        {
          "output_type": "stream",
          "name": "stdout",
          "text": [
            "0.12.1\n"
          ]
        }
      ],
      "source": [
        "import diffusers\n",
        "print(diffusers.__version__)"
      ]
    },
    {
      "cell_type": "markdown",
      "source": [
        "## You have to login your hugging face providing Token\n",
        "\n",
        "Enter in input field and click on login button"
      ],
      "metadata": {
        "id": "e1KN4tE4LNT3"
      }
    },
    {
      "cell_type": "code",
      "execution_count": null,
      "metadata": {
        "id": "XJ8R0-QOUyjK"
      },
      "outputs": [],
      "source": [
        "import os\n",
        "from PIL import Image, ImageDraw\n",
        "import cv2\n",
        "import numpy as np\n",
        "from IPython.display import HTML\n",
        "from base64 import b64encode\n",
        "\n",
        "import torch\n",
        "from torch import autocast\n",
        "from torch.nn import functional as F\n",
        "from diffusers import StableDiffusionPipeline, AutoencoderKL\n",
        "from diffusers import UNet2DConditionModel, PNDMScheduler, LMSDiscreteScheduler\n",
        "from diffusers.schedulers.scheduling_ddim import DDIMScheduler\n",
        "from transformers import CLIPTextModel, CLIPTokenizer\n",
        "from tqdm.auto import tqdm\n",
        "from huggingface_hub import notebook_login\n",
        "from google.colab import output\n",
        "\n",
        "\n",
        "device = 'cuda'\n",
        "\n",
        "output.enable_custom_widget_manager()\n",
        "notebook_login()\n"
      ]
    },
    {
      "cell_type": "code",
      "execution_count": null,
      "metadata": {
        "id": "v3CuxazKUywq"
      },
      "outputs": [],
      "source": [
        "# make sure you're logged in with `huggingface-cli login`\n",
        "pipe = StableDiffusionPipeline.from_pretrained(\n",
        "    'CompVis/stable-diffusion-v1-4', revision='fp16',\n",
        "    torch_dtype=torch.float16, use_auth_token=True)\n",
        "pipe = pipe.to(device)"
      ]
    },
    {
      "cell_type": "markdown",
      "source": [
        "## Test your Prompt here"
      ],
      "metadata": {
        "id": "8AK-TQjcLE9J"
      }
    },
    {
      "cell_type": "code",
      "execution_count": null,
      "metadata": {
        "id": "aTpOLcIQUzRX"
      },
      "outputs": [],
      "source": [
        "prompt = 'gorgeous young Swiss girl sitting by window with headphones on, wearing white cloth with translucent shirt over, soft lips, beach blonde hair, octane render'\n",
        "with autocast(device):\n",
        "\n",
        "  img=pipe(prompt).images[0]\n",
        "\n",
        "img"
      ]
    },
    {
      "cell_type": "markdown",
      "source": [
        "## Past your authToken of ngrok\n",
        "this is Unique You have to give your own\n",
        "\n",
        "eg. **!ngrok authtoken 2LrSLmnAoZTsd97NIKTZ_6tEixjjpf481GgaBuNdx3aJ**\n"
      ],
      "metadata": {
        "id": "SQF8kN7uLAN0"
      }
    },
    {
      "cell_type": "code",
      "source": [
        "!pip install pyngrok==4.1.1\n",
        "!pip install flask_ngrok"
      ],
      "metadata": {
        "id": "V-FWKkZPSZXd"
      },
      "execution_count": null,
      "outputs": []
    },
    {
      "cell_type": "code",
      "source": [
        "!ngrok authtoken -------------------- #Without \"\" marks past your token"
      ],
      "metadata": {
        "id": "MyKCJYkrMRRj"
      },
      "execution_count": null,
      "outputs": []
    },
    {
      "cell_type": "code",
      "execution_count": null,
      "metadata": {
        "id": "FZQV83XhUzyc"
      },
      "outputs": [],
      "source": [
        "from flask_ngrok import run_with_ngrok\n",
        "from flask import Flask, render_template, request\n",
        "import datetime\n",
        "now = datetime.datetime.now()\n",
        "import time\n",
        "import os\n",
        "photoFolder = os.path.join('/content/drive/MyDrive/flask/static', 'photo')\n",
        "\n",
        "app = Flask(__name__,template_folder='/content/drive/MyDrive/flask/templates', static_folder='/content/drive/MyDrive/flask/static')\n",
        "run_with_ngrok(app)\n",
        "\n",
        "app.config['UPLOAD_FOLDER'] = photoFolder\n",
        "\n",
        "@app.route(\"/\")\n",
        "def Index():\n",
        "\n",
        "    input=' \" Eg: temple in ruines, forest, stairs, columns, cinematic, detailed, atmospheric, epic, concept art, Matte painting, background, mist, photo-realistic, concept art, volumetric light, \" '\n",
        "\n",
        "\n",
        "    return render_template(\"myHome.html\",data=input ,img='default.jpg')\n",
        "\n",
        "\n",
        "@app.route(\"/insert\", methods=[\"POST\"])\n",
        "def insert():\n",
        "    if request.method == \"POST\":\n",
        "        prompt = request.form['input']\n",
        "\n",
        "        with autocast(device):\n",
        "          img=pipe(prompt).images[0]\n",
        "\n",
        "        cur_time = now.strftime(\"%H:%M:%S\")\n",
        "        splt=prompt.split(\" \")\n",
        "        input=splt[0]+str(len(prompt))+cur_time\n",
        "\n",
        "        drive=\"/content/drive/MyDrive/flask/static/photo/\"\n",
        "        imgID=input+\".jpg\"\n",
        "        savedImg=drive+imgID\n",
        "        img.save(savedImg)\n",
        "\n",
        "        time.sleep(10)\n",
        "        return render_template(\"myHome.html\",  data=prompt ,img=imgID)\n",
        "\n",
        "app.run()"
      ]
    },
    {
      "cell_type": "code",
      "execution_count": null,
      "metadata": {
        "id": "4TNOsUOmU0GK"
      },
      "outputs": [],
      "source": []
    }
  ],
  "metadata": {
    "accelerator": "GPU",
    "colab": {
      "provenance": [],
      "gpuType": "T4",
      "collapsed_sections": [
        "8AK-TQjcLE9J"
      ]
    },
    "kernelspec": {
      "display_name": "Python 3",
      "name": "python3"
    },
    "language_info": {
      "name": "python"
    }
  },
  "nbformat": 4,
  "nbformat_minor": 0
}